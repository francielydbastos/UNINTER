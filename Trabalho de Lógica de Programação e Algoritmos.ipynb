{
  "nbformat": 4,
  "nbformat_minor": 0,
  "metadata": {
    "colab": {
      "provenance": [],
      "authorship_tag": "ABX9TyOHNYajlpyAVIDWHgGM6/0b"
    },
    "kernelspec": {
      "name": "python3",
      "display_name": "Python 3"
    },
    "language_info": {
      "name": "python"
    }
  },
  "cells": [
    {
      "cell_type": "markdown",
      "source": [
        "**Questão 1:**"
      ],
      "metadata": {
        "id": "hRPzmRCZHljX"
      }
    },
    {
      "cell_type": "code",
      "execution_count": 8,
      "metadata": {
        "colab": {
          "base_uri": "https://localhost:8080/"
        },
        "id": "bI6wBkSPV5DM",
        "outputId": "4dc392f5-45e3-492d-ccfd-4eea554be88b"
      },
      "outputs": [
        {
          "output_type": "stream",
          "name": "stdout",
          "text": [
            "Boas vindas à Loja da Franciely Bastos (3830714)!\n",
            "Qual o valor unitário do produto? R$ 100\n",
            "Qual a quantidade de produtos? 100\n",
            "O valor sem desconto foi R$10000.00\n",
            "O valor com desconto foi R$8900.00 (desconto 11%)\n"
          ]
        }
      ],
      "source": [
        "print('Boas vindas à Loja da Franciely Bastos (3830714)!')\n",
        "\n",
        "# O input nos retorna uma string, então devemos fazer a conversão para para trabalhar com o valor numérico\n",
        "valorUnitario = float(input('Qual o valor unitário do produto? R$ '))\n",
        "quantidade = int(input('Qual a quantidade de produtos? '))\n",
        "\n",
        "valorTotal = valorUnitario * quantidade\n",
        "\n",
        "if (valorTotal <  2500): # condição quando não temos desconto\n",
        "  desconto = 0\n",
        "elif (valorTotal >= 2500 and valorTotal < 6000): # condição para desconto de 4%\n",
        "  desconto = 0.04\n",
        "elif (valorTotal >= 6000 and valorTotal < 10000): # condição para desconto de 7%\n",
        "  desconto = 0.07\n",
        "else: # para valores acima de R$10000.00, desconto de 11%\n",
        "  desconto = 0.11\n",
        "\n",
        "valorComDesconto = valorTotal * (1 - desconto)\n",
        "\n",
        "print('O valor sem desconto foi R${:.2f}'.format(valorTotal))\n",
        "print('O valor com desconto foi R${:.2f} (desconto {:.0%})'.format(valorComDesconto, desconto))"
      ]
    },
    {
      "cell_type": "markdown",
      "source": [
        "**Questão 2:**\n"
      ],
      "metadata": {
        "id": "8Y2NhIkeHZoS"
      }
    },
    {
      "cell_type": "code",
      "source": [
        "print('Boas vindas à Loja Refrescante da Franciely Bastos!')\n",
        "print('-------------------> Cardápio <-------------------')\n",
        "print('------| Tamanho | Cupuaçu (CP) | Açaí (AC) |------')\n",
        "print('------|    P    |   R$ 9,00    |  R$ 11,00 |------')\n",
        "print('------|    M    |   R$ 14,00   |  R$ 16,00 |------')\n",
        "print('------|    G    |   R$ 18,00   |  R$ 20,00 |------')\n",
        "print('<------------------------------------------------>')\n",
        "\n",
        "valorTotal = 0\n",
        "\n",
        "while True:\n",
        "  sabor = input('Qual o sabor desejado? (CP ou AC) ').upper() # Input do sabor, chamando a função upper() para garantir que a comparação não distingua entre maiusculas e minusculas\n",
        "  while (sabor != 'CP' and sabor != 'AC'):\n",
        "    print('Sabor inválido :( Tente novamente!')\n",
        "    sabor = input('Qual o sabor desejado? (CP ou AC) ').upper()\n",
        "\n",
        "  tamanho = input('Ótimo! Agora selecione o tamanho desejado (P, M ou G): ').upper()\n",
        "  while (tamanho != 'P' and tamanho != 'M' and tamanho != 'G'):\n",
        "    print('Tamanho inválido :( Tente novamente!')\n",
        "    tamanho = input('Qual o tamanho desejado (P, M ou G): ').upper()\n",
        "\n",
        "  # Condição para determinar o valor do pedido\n",
        "  if (sabor == 'CP'):\n",
        "    pedido = 'Cupuaçu'\n",
        "    if (tamanho == 'P'):\n",
        "      valorPedido = 9\n",
        "    elif (tamanho == 'M'):\n",
        "      valorPedido = 14\n",
        "    elif (tamanho == 'G'):\n",
        "      valorPedido = 18\n",
        "  elif (sabor == 'AC'):\n",
        "    pedido = 'Açaí'\n",
        "    if (tamanho == 'P'):\n",
        "      valorPedido = 11\n",
        "    elif (tamanho == 'M'):\n",
        "      valorPedido = 16\n",
        "    elif (tamanho == 'G'):\n",
        "      valorPedido = 20\n",
        "\n",
        "  valorTotal += valorPedido # Atualizando o acumulador com o valor do pedido atual\n",
        "\n",
        "  print('')\n",
        "  print('Você pediu um {} no tamanho {} e o valor é R${:.2f}.'.format(pedido, tamanho, valorPedido))\n",
        "  fazerPedido = input(\"Deseja pedir mais alguma coisa? (S ou N): \").upper()\n",
        "\n",
        "  # Verificando a condição e definindo que se o usuário quiser adicionar mais itens ao pedido, continuamos o loop e, caso não queira, encerramos com o break\n",
        "  if (fazerPedido == 'S'):\n",
        "    continue\n",
        "  else:\n",
        "    break\n",
        "\n",
        "print('')\n",
        "print('Obrigada por comprar conosco! O valor total a ser pago é R${:.2f}.'.format(valorTotal))\n"
      ],
      "metadata": {
        "colab": {
          "base_uri": "https://localhost:8080/"
        },
        "id": "CKcEl3_SEnb9",
        "outputId": "7435a308-0ded-462c-e095-331ab023b00d"
      },
      "execution_count": 17,
      "outputs": [
        {
          "output_type": "stream",
          "name": "stdout",
          "text": [
            "Boas vindas à Loja Refrescante da Franciely Bastos!\n",
            "-------------------> Cardápio <-------------------\n",
            "------| Tamanho | Cupuaçu (CP) | Açaí (AC) |------\n",
            "------|    P    |   R$ 9,00    |  R$ 11,00 |------\n",
            "------|    M    |   R$ 14,00   |  R$ 16,00 |------\n",
            "------|    G    |   R$ 18,00   |  R$ 20,00 |------\n",
            "<------------------------------------------------>\n",
            "Qual o sabor desejado? (CP ou AC) ca\n",
            "Sabor inválido :( Tente novamente!\n",
            "Qual o sabor desejado? (CP ou AC) cp\n",
            "Ótimo! Agora selecione o tamanho desejado (P, M ou G): medio\n",
            "Tamanho inválido :( Tente novamente!\n",
            "Qual o tamanho desejado (P, M ou G): m\n",
            "\n",
            "Você pediu um Cupuaçu no tamanho M e o valor é R$14.00.\n",
            "Deseja pedir mais alguma coisa? (S ou N): S\n",
            "Qual o sabor desejado? (CP ou AC) AC\n",
            "Ótimo! Agora selecione o tamanho desejado (P, M ou G): G\n",
            "\n",
            "Você pediu um Açaí no tamanho G e o valor é R$20.00.\n",
            "Deseja pedir mais alguma coisa? (S ou N): n\n",
            "\n",
            "Obrigada por comprar conosco! O valor total a ser pago é R$34.00.\n"
          ]
        }
      ]
    },
    {
      "cell_type": "markdown",
      "source": [
        "**Questão 3:**"
      ],
      "metadata": {
        "id": "XS0vCwlZeG2b"
      }
    },
    {
      "cell_type": "code",
      "source": [],
      "metadata": {
        "id": "QmiCq1WveMgv"
      },
      "execution_count": null,
      "outputs": []
    }
  ]
}